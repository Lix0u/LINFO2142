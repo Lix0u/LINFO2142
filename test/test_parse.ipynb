{
 "cells": [
  {
   "cell_type": "code",
   "execution_count": 2,
   "metadata": {},
   "outputs": [],
   "source": [
    "import json\n",
    "import random"
   ]
  },
  {
   "cell_type": "code",
   "execution_count": 3,
   "metadata": {},
   "outputs": [],
   "source": [
    "with open(\"test_json_parse.json\") as f:\n",
    "    data = json.load(f)"
   ]
  },
  {
   "cell_type": "code",
   "execution_count": 4,
   "metadata": {},
   "outputs": [],
   "source": [
    "nodes = set()\n",
    "edges = set()\n",
    "    \n",
    "def add_node(nodename):\n",
    "        nodes.add(nodename)\n",
    "    \n",
    "def add_edge(nodename, next_node):\n",
    "    edges.add((nodename, next_node))\n"
   ]
  },
  {
   "cell_type": "code",
   "execution_count": 5,
   "metadata": {},
   "outputs": [],
   "source": [
    "for _, hops in data['flows'].items():\n",
    "\n",
    "    src = hops[0]['sent']['ip']['src']\n",
    "    add_node(src)\n",
    "\n",
    "    for index, hop in enumerate(hops):\n",
    "        def get_name(i, h):\n",
    "            received = h.get('received', None)\n",
    "            if received is None:\n",
    "                return f'NULL{i}'\n",
    "            return received['ip']['src']\n",
    "\n",
    "        nodename = get_name(index, hop)\n",
    "        add_node(nodename)\n",
    "\n",
    "        if index == 0:\n",
    "            add_edge(src, nodename)\n",
    "\n",
    "        if hop.get(\"is_last\", False):\n",
    "            continue\n",
    "\n",
    "        nexthop = hops[index + 1]\n",
    "\n",
    "        next_nodename = get_name(index + 1, nexthop)\n",
    "\n",
    "        add_edge(nodename, next_nodename)"
   ]
  },
  {
   "cell_type": "code",
   "execution_count": 7,
   "metadata": {},
   "outputs": [],
   "source": [
    "import ipinfo"
   ]
  },
  {
   "cell_type": "code",
   "execution_count": 8,
   "metadata": {},
   "outputs": [],
   "source": [
    "ipinfo.cache_load()"
   ]
  },
  {
   "cell_type": "code",
   "execution_count": 66,
   "metadata": {},
   "outputs": [],
   "source": [
    "edges_to = {}\n",
    "for (n1, n2) in edges:\n",
    "    l = edges_to.get(n1, list())\n",
    "    l.append(n2)\n",
    "    edges_to[n1] = l"
   ]
  },
  {
   "cell_type": "code",
   "execution_count": 67,
   "metadata": {},
   "outputs": [],
   "source": [
    "keys = list(edges_to.keys())\n",
    "i = 0"
   ]
  },
  {
   "cell_type": "code",
   "execution_count": 68,
   "metadata": {},
   "outputs": [
    {
     "name": "stdout",
     "output_type": "stream",
     "text": [
      "42\n",
      "42\n",
      "0\n"
     ]
    }
   ],
   "source": [
    "print(len(keys))\n",
    "print(len(edges_to))\n",
    "print(i)"
   ]
  },
  {
   "cell_type": "code",
   "execution_count": null,
   "metadata": {},
   "outputs": [],
   "source": [
    "def replace_all(key, to_key):\n",
    "    for l in edges_to.values():\n",
    "        if key in l:\n",
    "            l.remove(key)\n",
    "            l.append(to_key)\n",
    "\n",
    "while i < len(keys):\n",
    "    l = edges_to[keys[i]]\n",
    "    n1_info = ipinfo.get(keys[i])\n",
    "    for k in l:\n",
    "        n2_info = ipinfo.get(k)\n",
    "        if n1_info == n2_info:\n",
    "            if k in keys:\n",
    "                keys.remove(k)\n",
    "            if k in edges_to:\n",
    "                l.remove(k)\n",
    "                replace_all(k, keys[i])\n",
    "                nl = edges_to[k]\n",
    "                l.extend(nl)\n",
    "\n"
   ]
  },
  {
   "cell_type": "code",
   "execution_count": 65,
   "metadata": {},
   "outputs": [
    {
     "data": {
      "text/plain": [
       "{'142.250.224.218': ['142.251.64.177'],\n",
       " 'NULL9': ['NULL10',\n",
       "  '142.250.224.218',\n",
       "  '142.250.212.136',\n",
       "  '108.170.247.49',\n",
       "  '142.250.224.224',\n",
       "  '209.85.253.176',\n",
       "  '142.250.212.134',\n",
       "  '142.250.234.212',\n",
       "  '142.250.212.136',\n",
       "  '108.170.247.49',\n",
       "  '142.250.212.134',\n",
       "  '142.250.234.212'],\n",
       " '142.250.224.224': ['142.251.64.179', '142.250.204.4'],\n",
       " '10.29.250.254': ['10.29.231.206',\n",
       "  '10.29.231.208',\n",
       "  '10.133.18.30',\n",
       "  '10.133.18.28',\n",
       "  '10.133.18.34',\n",
       "  '10.133.18.32',\n",
       "  '10.75.8.14',\n",
       "  '10.75.8.12',\n",
       "  '10.75.8.8',\n",
       "  '10.75.8.10',\n",
       "  '10.75.8.12',\n",
       "  '10.75.8.8',\n",
       "  '10.75.8.10',\n",
       "  '10.75.248.68',\n",
       "  '10.75.248.66',\n",
       "  '10.75.248.66',\n",
       "  '10.75.248.68',\n",
       "  '103.5.14.218',\n",
       "  '103.5.14.220'],\n",
       " '142.250.234.212': ['108.170.247.82', '108.170.247.90'],\n",
       " '139.99.169.140': ['NULL0', '139.99.168.1', '192.168.143.254'],\n",
       " '142.250.212.134': ['142.251.64.177'],\n",
       " '209.85.253.176': ['142.251.64.177'],\n",
       " '103.5.14.218': ['103.5.14.222', 'NULL9'],\n",
       " 'NULL1': ['10.29.250.254'],\n",
       " '108.170.247.49': ['108.170.247.58',\n",
       "  '108.170.247.50',\n",
       "  '142.250.62.190',\n",
       "  '142.251.240.247',\n",
       "  '108.170.247.33',\n",
       "  '108.170.247.65',\n",
       "  '72.14.236.248',\n",
       "  '142.251.64.177',\n",
       "  '142.250.204.4',\n",
       "  '142.251.64.179',\n",
       "  '108.170.247.33',\n",
       "  '108.170.247.65'],\n",
       " 'NULL8': ['NULL9'],\n",
       " '192.168.143.254': ['10.29.250.254'],\n",
       " '103.5.14.220': ['NULL8'],\n",
       " 'NULL0': ['NULL1'],\n",
       " '108.170.247.90': ['142.250.62.190'],\n",
       " '108.170.247.82': ['142.251.240.247'],\n",
       " '142.250.212.136': ['142.251.64.179']}"
      ]
     },
     "execution_count": 65,
     "metadata": {},
     "output_type": "execute_result"
    }
   ],
   "source": [
    "edges_to"
   ]
  },
  {
   "cell_type": "code",
   "execution_count": null,
   "metadata": {},
   "outputs": [],
   "source": [
    "\n",
    "l = edges_to[keys[i]]\n",
    "n1_info = ipinfo.get(keys[i])\n",
    "change = False\n",
    "for k in l:\n",
    "    n2_info = ipinfo.get(k)\n",
    "    if n1_info == n2_info:\n",
    "        print(f\"n1 : {keys[i]} - {n1_info} === n2 : {k} - {n2_info}\")\n",
    "        change = True\n",
    "        if k in keys:\n",
    "            keys.remove(k)\n",
    "        if k in edges_to:\n",
    "            nl = edges_to.pop(k)\n",
    "            l.extend(nl)\n",
    "        else:\n",
    "            i += 1\n",
    "\n",
    "if change == False:\n",
    "    i += 1"
   ]
  }
 ],
 "metadata": {
  "kernelspec": {
   "display_name": "Python 3.10.8 64-bit",
   "language": "python",
   "name": "python3"
  },
  "language_info": {
   "codemirror_mode": {
    "name": "ipython",
    "version": 3
   },
   "file_extension": ".py",
   "mimetype": "text/x-python",
   "name": "python",
   "nbconvert_exporter": "python",
   "pygments_lexer": "ipython3",
   "version": "3.10.8"
  },
  "orig_nbformat": 4,
  "vscode": {
   "interpreter": {
    "hash": "26de051ba29f2982a8de78e945f0abaf191376122a1563185a90213a26c5da77"
   }
  }
 },
 "nbformat": 4,
 "nbformat_minor": 2
}
